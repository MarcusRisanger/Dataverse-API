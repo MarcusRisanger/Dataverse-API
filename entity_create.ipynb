{
 "cells": [
  {
   "cell_type": "code",
   "execution_count": 1,
   "metadata": {},
   "outputs": [],
   "source": [
    "import os\n",
    "from dataverse_api import DataverseClient\n",
    "from msal import ConfidentialClientApplication\n",
    "from msal_requests_auth.auth import ClientCredentialAuth\n",
    "\n",
    "import json\n",
    "import requests\n",
    "from dataverse_api._api import DataverseAPI\n",
    "from dataverse_api._metadata_defs import EntityMetadata, StringAttributeMetadata, ManagedProperty, Label\n",
    "\n",
    "\n",
    "app_id = os.environ[\"app_id\"]\n",
    "authority_url = os.environ[\"authority_url\"]\n",
    "client_secret = os.environ[\"client_secret\"]\n",
    "url = os.environ[\"url\"]  # https://org_identifier.crm.dynamics.com\n",
    "scopes = [url + \"/.default\"]\n",
    "\n",
    "\n",
    "client = ConfidentialClientApplication(\n",
    "    client_id=app_id,\n",
    "    client_credential=client_secret,\n",
    "    authority=authority_url,\n",
    ")\n",
    "auth = ClientCredentialAuth(\n",
    "    client=client,\n",
    "    scopes=scopes,\n",
    ")\n",
    "\n",
    "client = DataverseClient(resource=url, auth=auth)\n",
    "api = DataverseAPI(client._auth)\n",
    "\n",
    "\n"
   ]
  },
  {
   "cell_type": "code",
   "execution_count": 2,
   "metadata": {},
   "outputs": [],
   "source": [
    "### CREATING NEW ENTITY ###\n",
    "\n",
    "\n",
    "\n",
    "# a = EntityMetadata(\n",
    "#     description=Label(\"Table for collecting logs for Azure function runs.\", 1033),\n",
    "#     display_name=Label(\"Log Runs\", 1033),\n",
    "#     schema_name=\"test_logruns\",\n",
    "#     display_collection_name=Label(\"Log Runs\", 1033),\n",
    "#     attributes=[StringAttributeMetadata(\n",
    "#         description=Label(\"Function Name\", 1033),\n",
    "#         display_name=Label(\"Function Name\", 1033),\n",
    "#         schema_name=\"test_function_name\",\n",
    "#         max_length=100,\n",
    "#         format_name=\"Text\",\n",
    "#         is_primary=True,\n",
    "#         required_level=ManagedProperty(value=\"None\",can_be_changed=True,managed_property_name=\"canmodifyrequirementlevelsettings\")\n",
    "#     )],\n",
    "#     ownership_type=\"UserOwned\",\n",
    "#     is_activity=False,\n",
    "#     has_notes=False,\n",
    "#     has_activities=False\n",
    "# )\n",
    "\n",
    "# create = requests.post(\n",
    "#     url=\"https://org2ae976c6.crm4.dynamics.com/api/data/v9.2/EntityDefinitions\",\n",
    "#     auth=client._auth.auth,\n",
    "#     headers={\"Accept\":\"application/json\"},\n",
    "#     json=a()\n",
    "# )"
   ]
  },
  {
   "cell_type": "code",
   "execution_count": 2,
   "metadata": {},
   "outputs": [],
   "source": [
    "# ESTABLISHING RELATIONSHIP\n",
    "\n",
    "from dataverse_api._metadata_defs import LookupAttributeMetadata, OneToManyRelationshipMetadata, Label, RequiredLevel, AssociatedMenuConfiguration, CascadeConfiguration\n",
    "\n",
    "label = Label(\"Associated TEST \", 1033)\n",
    "\n",
    "lookup = LookupAttributeMetadata(\n",
    "    description=label,\n",
    "    display_name=label,\n",
    "    schema_name=\"test_lookupID\",\n",
    "    required_level=RequiredLevel()\n",
    ")\n",
    "\n",
    "rel = OneToManyRelationshipMetadata(\n",
    "    schema_name=\"test_rel_marcus_logs\",\n",
    "    cascade_configuration=CascadeConfiguration(),\n",
    "    associated_menu_config=AssociatedMenuConfiguration(\n",
    "        behavior=\"UseCollectionName\",\n",
    "        group=\"Details\",\n",
    "        label=Label(\"Associated Menu Config Label\", 1033),\n",
    "        order=10000\n",
    "    ),\n",
    "    # referenced_attribute=\"cr3fa_test_value_text\",\n",
    "    referenced_entity=\"cr3fa_marcus_test\",\n",
    "    referencing_entity=\"test_logruns\",\n",
    "    lookup=lookup\n",
    ")\n"
   ]
  },
  {
   "cell_type": "code",
   "execution_count": 6,
   "metadata": {},
   "outputs": [
    {
     "data": {
      "text/plain": [
       "<Response [204]>"
      ]
     },
     "execution_count": 6,
     "metadata": {},
     "output_type": "execute_result"
    }
   ],
   "source": [
    "relationship = requests.post(\n",
    "    url=\"https://org2ae976c6.crm4.dynamics.com/api/data/v9.2/RelationshipDefinitions\",\n",
    "    auth=client._auth.auth,\n",
    "    headers={\"Accept\":\"application/json\"},\n",
    "    json=rel()\n",
    ")\n",
    "\n",
    "relationship"
   ]
  },
  {
   "cell_type": "code",
   "execution_count": 5,
   "metadata": {},
   "outputs": [
    {
     "ename": "KeyError",
     "evalue": "'location'",
     "output_type": "error",
     "traceback": [
      "\u001b[0;31m---------------------------------------------------------------------------\u001b[0m",
      "\u001b[0;31mKeyError\u001b[0m                                  Traceback (most recent call last)",
      "Cell \u001b[0;32mIn[5], line 1\u001b[0m\n\u001b[0;32m----> 1\u001b[0m requests\u001b[39m.\u001b[39mdelete(relationship\u001b[39m.\u001b[39;49mheaders[\u001b[39m\"\u001b[39;49m\u001b[39mLocation\u001b[39;49m\u001b[39m\"\u001b[39;49m], auth\u001b[39m=\u001b[39mclient\u001b[39m.\u001b[39m_auth\u001b[39m.\u001b[39mauth)\n",
      "File \u001b[0;32m~/GitHub/Dataverse-API/.venv/lib/python3.9/site-packages/requests/structures.py:52\u001b[0m, in \u001b[0;36mCaseInsensitiveDict.__getitem__\u001b[0;34m(self, key)\u001b[0m\n\u001b[1;32m     51\u001b[0m \u001b[39mdef\u001b[39;00m \u001b[39m__getitem__\u001b[39m(\u001b[39mself\u001b[39m, key):\n\u001b[0;32m---> 52\u001b[0m     \u001b[39mreturn\u001b[39;00m \u001b[39mself\u001b[39;49m\u001b[39m.\u001b[39;49m_store[key\u001b[39m.\u001b[39;49mlower()][\u001b[39m1\u001b[39m]\n",
      "\u001b[0;31mKeyError\u001b[0m: 'location'"
     ]
    }
   ],
   "source": [
    "requests.delete(relationship.headers[\"Location\"], auth=client._auth.auth)"
   ]
  },
  {
   "cell_type": "code",
   "execution_count": 16,
   "metadata": {},
   "outputs": [],
   "source": [
    "### PERFORMING DEEP INSERT ON PARENT TABLE TO CHILD TABLE\n",
    "\n",
    "table = client.entity(\"cr3fa_marcus_test\", validate=True)\n",
    "table._post(\n",
    "    url=table.schema.entity.name, \n",
    "    json={\n",
    "        \"cr3fa_test_pk\":\"DEEP\",\n",
    "        \"test_rel_marcus_logs\": [\n",
    "            {\n",
    "                \"test_function_name\":\"FUNC1\", \n",
    "                \"new_run_detail\":\"Warning: Encountered stuff\"\n",
    "            },\n",
    "            {\n",
    "                \"test_function_name\":\"FUNC1\", \n",
    "                \"new_run_detail\":\"Warning: Missing Values\"\n",
    "            }\n",
    "        ]\n",
    "    }\n",
    ")"
   ]
  },
  {
   "cell_type": "code",
   "execution_count": 11,
   "metadata": {},
   "outputs": [
    {
     "data": {
      "text/plain": [
       "[{'@odata.etag': 'W/\"14559105\"',\n",
       "  'test_function_name': 'FUNC1',\n",
       "  'new_run_detail': 'Warning: Encountered stuff',\n",
       "  '_test_lookupid_value': 'c41793f8-a267-ee11-9ae7-6045bd8863da',\n",
       "  'test_logrunsid': 'c51793f8-a267-ee11-9ae7-6045bd8863da'},\n",
       " {'@odata.etag': 'W/\"14559106\"',\n",
       "  'test_function_name': 'FUNC1',\n",
       "  'new_run_detail': 'Warning: Missing Values',\n",
       "  '_test_lookupid_value': 'c41793f8-a267-ee11-9ae7-6045bd8863da',\n",
       "  'test_logrunsid': 'c61793f8-a267-ee11-9ae7-6045bd8863da'},\n",
       " {'@odata.etag': 'W/\"14556553\"',\n",
       "  'test_function_name': None,\n",
       "  'new_run_detail': None,\n",
       "  '_test_lookupid_value': None,\n",
       "  'test_logrunsid': '559e40b9-9f67-ee11-9ae7-6045bd886bc5'}]"
      ]
     },
     "execution_count": 11,
     "metadata": {},
     "output_type": "execute_result"
    }
   ],
   "source": [
    "client.entity(\"test_logruns\").read(select=[\"test_function_name\",\"new_run_detail\",\"_test_lookupid_value\"])"
   ]
  }
 ],
 "metadata": {
  "kernelspec": {
   "display_name": ".venv",
   "language": "python",
   "name": "python3"
  },
  "language_info": {
   "codemirror_mode": {
    "name": "ipython",
    "version": 3
   },
   "file_extension": ".py",
   "mimetype": "text/x-python",
   "name": "python",
   "nbconvert_exporter": "python",
   "pygments_lexer": "ipython3",
   "version": "3.9.16"
  },
  "orig_nbformat": 4
 },
 "nbformat": 4,
 "nbformat_minor": 2
}
